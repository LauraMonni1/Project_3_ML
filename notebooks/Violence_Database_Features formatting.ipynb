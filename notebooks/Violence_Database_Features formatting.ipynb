{
 "cells": [
  {
   "cell_type": "code",
   "execution_count": 1,
   "id": "2e434b33",
   "metadata": {},
   "outputs": [],
   "source": [
    "import pandas as pd"
   ]
  },
  {
   "cell_type": "code",
   "execution_count": 2,
   "id": "44958262",
   "metadata": {},
   "outputs": [],
   "source": [
    "data_violence = pd.read_excel(\"../data/Original-Datasets/data_cts_violent_and_sexual_crime.xlsx\", header=2)"
   ]
  },
  {
   "cell_type": "code",
   "execution_count": 3,
   "id": "84e13839",
   "metadata": {},
   "outputs": [
    {
     "data": {
      "text/html": [
       "<div>\n",
       "<style scoped>\n",
       "    .dataframe tbody tr th:only-of-type {\n",
       "        vertical-align: middle;\n",
       "    }\n",
       "\n",
       "    .dataframe tbody tr th {\n",
       "        vertical-align: top;\n",
       "    }\n",
       "\n",
       "    .dataframe thead th {\n",
       "        text-align: right;\n",
       "    }\n",
       "</style>\n",
       "<table border=\"1\" class=\"dataframe\">\n",
       "  <thead>\n",
       "    <tr style=\"text-align: right;\">\n",
       "      <th></th>\n",
       "      <th>Iso3_code</th>\n",
       "      <th>Country</th>\n",
       "      <th>Region</th>\n",
       "      <th>Subregion</th>\n",
       "      <th>Indicator</th>\n",
       "      <th>Dimension</th>\n",
       "      <th>Category</th>\n",
       "      <th>Sex</th>\n",
       "      <th>Age</th>\n",
       "      <th>Year</th>\n",
       "      <th>Unit of measurement</th>\n",
       "      <th>VALUE</th>\n",
       "      <th>Source</th>\n",
       "    </tr>\n",
       "  </thead>\n",
       "  <tbody>\n",
       "    <tr>\n",
       "      <th>0</th>\n",
       "      <td>AZE</td>\n",
       "      <td>Azerbaijan</td>\n",
       "      <td>Asia</td>\n",
       "      <td>Western Asia</td>\n",
       "      <td>Violent offences</td>\n",
       "      <td>by type of offence</td>\n",
       "      <td>Serious assault</td>\n",
       "      <td>Total</td>\n",
       "      <td>Total</td>\n",
       "      <td>2003</td>\n",
       "      <td>Counts</td>\n",
       "      <td>155.0</td>\n",
       "      <td>CTS</td>\n",
       "    </tr>\n",
       "    <tr>\n",
       "      <th>1</th>\n",
       "      <td>BEL</td>\n",
       "      <td>Belgium</td>\n",
       "      <td>Europe</td>\n",
       "      <td>Western Europe</td>\n",
       "      <td>Violent offences</td>\n",
       "      <td>by type of offence</td>\n",
       "      <td>Serious assault</td>\n",
       "      <td>Total</td>\n",
       "      <td>Total</td>\n",
       "      <td>2003</td>\n",
       "      <td>Counts</td>\n",
       "      <td>61959.0</td>\n",
       "      <td>CTS</td>\n",
       "    </tr>\n",
       "    <tr>\n",
       "      <th>2</th>\n",
       "      <td>BGR</td>\n",
       "      <td>Bulgaria</td>\n",
       "      <td>Europe</td>\n",
       "      <td>Eastern Europe</td>\n",
       "      <td>Violent offences</td>\n",
       "      <td>by type of offence</td>\n",
       "      <td>Serious assault</td>\n",
       "      <td>Total</td>\n",
       "      <td>Total</td>\n",
       "      <td>2003</td>\n",
       "      <td>Counts</td>\n",
       "      <td>3806.0</td>\n",
       "      <td>CTS</td>\n",
       "    </tr>\n",
       "    <tr>\n",
       "      <th>3</th>\n",
       "      <td>BHR</td>\n",
       "      <td>Bahrain</td>\n",
       "      <td>Asia</td>\n",
       "      <td>Western Asia</td>\n",
       "      <td>Violent offences</td>\n",
       "      <td>by type of offence</td>\n",
       "      <td>Serious assault</td>\n",
       "      <td>Total</td>\n",
       "      <td>Total</td>\n",
       "      <td>2003</td>\n",
       "      <td>Counts</td>\n",
       "      <td>2701.0</td>\n",
       "      <td>CTS</td>\n",
       "    </tr>\n",
       "    <tr>\n",
       "      <th>4</th>\n",
       "      <td>BLR</td>\n",
       "      <td>Belarus</td>\n",
       "      <td>Europe</td>\n",
       "      <td>Eastern Europe</td>\n",
       "      <td>Violent offences</td>\n",
       "      <td>by type of offence</td>\n",
       "      <td>Serious assault</td>\n",
       "      <td>Total</td>\n",
       "      <td>Total</td>\n",
       "      <td>2003</td>\n",
       "      <td>Counts</td>\n",
       "      <td>4032.0</td>\n",
       "      <td>CTS</td>\n",
       "    </tr>\n",
       "  </tbody>\n",
       "</table>\n",
       "</div>"
      ],
      "text/plain": [
       "  Iso3_code     Country  Region       Subregion         Indicator  \\\n",
       "0       AZE  Azerbaijan    Asia    Western Asia  Violent offences   \n",
       "1       BEL     Belgium  Europe  Western Europe  Violent offences   \n",
       "2       BGR    Bulgaria  Europe  Eastern Europe  Violent offences   \n",
       "3       BHR     Bahrain    Asia    Western Asia  Violent offences   \n",
       "4       BLR     Belarus  Europe  Eastern Europe  Violent offences   \n",
       "\n",
       "            Dimension         Category    Sex    Age  Year  \\\n",
       "0  by type of offence  Serious assault  Total  Total  2003   \n",
       "1  by type of offence  Serious assault  Total  Total  2003   \n",
       "2  by type of offence  Serious assault  Total  Total  2003   \n",
       "3  by type of offence  Serious assault  Total  Total  2003   \n",
       "4  by type of offence  Serious assault  Total  Total  2003   \n",
       "\n",
       "  Unit of measurement    VALUE Source  \n",
       "0              Counts    155.0    CTS  \n",
       "1              Counts  61959.0    CTS  \n",
       "2              Counts   3806.0    CTS  \n",
       "3              Counts   2701.0    CTS  \n",
       "4              Counts   4032.0    CTS  "
      ]
     },
     "execution_count": 3,
     "metadata": {},
     "output_type": "execute_result"
    }
   ],
   "source": [
    "data_violence.head()"
   ]
  },
  {
   "cell_type": "code",
   "execution_count": 4,
   "id": "08972e37",
   "metadata": {},
   "outputs": [
    {
     "data": {
      "text/plain": [
       "array(['Azerbaijan', 'Belgium', 'Bulgaria', 'Bahrain', 'Belarus',\n",
       "       'Bermuda', 'Brunei Darussalam', 'Canada', 'Switzerland',\n",
       "       'Cameroon', 'Cyprus', 'Germany', 'Denmark', 'Algeria', 'Ecuador',\n",
       "       'Finland', 'France', 'United Kingdom (England and Wales)',\n",
       "       'United Kingdom (Northern Ireland)', 'United Kingdom (Scotland)',\n",
       "       'Greece', 'China, Hong Kong Special Administrative Region',\n",
       "       'Croatia', 'Hungary', 'Ireland', 'Japan', 'Kyrgyzstan',\n",
       "       'Liechtenstein', 'Sri Lanka', 'Lithuania', 'Latvia', 'Morocco',\n",
       "       'Monaco', 'Montenegro', 'Mongolia', 'Mauritius', 'Netherlands',\n",
       "       'Norway', 'Portugal', 'State of Palestine', 'Qatar', 'Romania',\n",
       "       'Singapore', 'Sao Tome and Principe', 'Slovakia', 'Slovenia',\n",
       "       'Sweden', 'Eswatini', 'Syrian Arab Republic', 'Türkiye', 'Uganda',\n",
       "       'Ukraine', 'United States of America', 'Zimbabwe', 'Armenia',\n",
       "       'Austria', 'Barbados', 'Colombia', 'Czechia', 'Georgia',\n",
       "       'Guatemala', 'India', 'Israel', 'Italy', 'Kuwait', 'Mexico',\n",
       "       'Mozambique', 'Peru', 'Russian Federation', 'Solomon Islands',\n",
       "       'Trinidad and Tobago', 'Saint Vincent and the Grenadines',\n",
       "       'Albania', 'United Arab Emirates', 'Argentina', 'Bangladesh',\n",
       "       'Bosnia and Herzegovina', 'Bolivia (Plurinational State of)',\n",
       "       'Spain', 'Estonia', 'Guinea', 'Grenada', 'Jordan', 'Kenya',\n",
       "       'Republic of Moldova', 'Malaysia', 'Nicaragua', 'Nepal',\n",
       "       'New Zealand', 'Paraguay', 'Senegal', 'El Salvador', 'Serbia',\n",
       "       'Thailand', 'Turkmenistan', 'Belize', 'Brazil', 'Chile',\n",
       "       'Costa Rica', 'Egypt', 'Iceland', 'Kazakhstan',\n",
       "       'Republic of Korea', 'Luxembourg', 'North Macedonia', 'Panama',\n",
       "       'Tajikistan', 'Uruguay', 'Andorra', 'Côte d’Ivoire', 'Lesotho',\n",
       "       'Nigeria', 'Oman', 'Sierra Leone', 'Australia', 'Burundi',\n",
       "       'Indonesia', 'Iraq (Central Iraq)', 'Lebanon',\n",
       "       'China, Macao Special Administrative Region', 'Malta',\n",
       "       'Puerto Rico', 'Rwanda', 'Kosovo under UNSCR 1244', 'Bahamas',\n",
       "       'Botswana', 'Saint Kitts and Nevis', 'Myanmar', 'Poland',\n",
       "       'Holy See', 'Yemen', 'Cabo Verde', 'Guyana', 'Jamaica',\n",
       "       'Madagascar', 'Pakistan', 'Honduras', 'Dominican Republic',\n",
       "       'Guinea-Bissau', 'Bhutan', 'Dominica', 'Maldives', 'Suriname',\n",
       "       'United Republic of Tanzania', 'Uzbekistan', 'South Africa',\n",
       "       'Antigua and Barbuda', 'Saudi Arabia',\n",
       "       'Venezuela (Bolivarian Republic of)', 'Philippines', 'Benin',\n",
       "       'Saint Lucia', 'Ghana', 'Haiti', 'Namibia', 'Sudan', 'Timor-Leste'],\n",
       "      dtype=object)"
      ]
     },
     "execution_count": 4,
     "metadata": {},
     "output_type": "execute_result"
    }
   ],
   "source": [
    "data_violence[\"Country\"].unique()"
   ]
  },
  {
   "cell_type": "code",
   "execution_count": 4,
   "id": "d42d4f85",
   "metadata": {},
   "outputs": [],
   "source": [
    "countries = [\"United States of America\", \"United Kingdom (England and Wales)\",\n",
    "             \"United Kingdom (Northern Ireland)\", \"United Kingdom (Scotland)\", \n",
    "             \"Ireland\", \"Canada\", \"New Zealand\", \"Australia\"]\n",
    "\n",
    "data_filtered = data_violence[data_violence[\"Country\"].isin(countries)]"
   ]
  },
  {
   "cell_type": "code",
   "execution_count": 5,
   "id": "1c977ad6",
   "metadata": {},
   "outputs": [
    {
     "data": {
      "text/plain": [
       "array(['Canada', 'United Kingdom (England and Wales)',\n",
       "       'United Kingdom (Northern Ireland)', 'United Kingdom (Scotland)',\n",
       "       'Ireland', 'United States of America', 'New Zealand', 'Australia'],\n",
       "      dtype=object)"
      ]
     },
     "execution_count": 5,
     "metadata": {},
     "output_type": "execute_result"
    }
   ],
   "source": [
    "data_filtered[\"Country\"].unique()"
   ]
  },
  {
   "cell_type": "code",
   "execution_count": 6,
   "id": "0a76d2c3",
   "metadata": {},
   "outputs": [],
   "source": [
    "uk_regions = [\"United Kingdom (England and Wales)\",\n",
    "             \"United Kingdom (Northern Ireland)\", \"United Kingdom (Scotland)\"]\n",
    "\n",
    "data_filtered.loc[data_filtered[\"Country\"].isin(uk_regions), \"Country\"] = \"UK\"\n",
    "data_filtered.loc[data_filtered[\"Country\"].str.contains(\"United States of America\"), \"Country\"] = \"USA\""
   ]
  },
  {
   "cell_type": "code",
   "execution_count": null,
   "id": "355ad0b5",
   "metadata": {},
   "outputs": [],
   "source": []
  },
  {
   "cell_type": "code",
   "execution_count": 8,
   "id": "90c623c8",
   "metadata": {},
   "outputs": [],
   "source": [
    "data_filtered.to_csv(\"../data/violence_and_crime.csv\", index=False)"
   ]
  },
  {
   "cell_type": "code",
   "execution_count": null,
   "id": "2c3dd6c6",
   "metadata": {},
   "outputs": [],
   "source": []
  }
 ],
 "metadata": {
  "kernelspec": {
   "display_name": "Python 3 (ipykernel)",
   "language": "python",
   "name": "python3"
  },
  "language_info": {
   "codemirror_mode": {
    "name": "ipython",
    "version": 3
   },
   "file_extension": ".py",
   "mimetype": "text/x-python",
   "name": "python",
   "nbconvert_exporter": "python",
   "pygments_lexer": "ipython3",
   "version": "3.11.5"
  }
 },
 "nbformat": 4,
 "nbformat_minor": 5
}
